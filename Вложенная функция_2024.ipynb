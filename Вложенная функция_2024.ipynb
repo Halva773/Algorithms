{
 "cells": [
  {
   "cell_type": "markdown",
   "metadata": {},
   "source": [
    "# Функциональное программирование"
   ]
  },
  {
   "cell_type": "markdown",
   "metadata": {},
   "source": [
    "Функциональное программирование - это подход к программированию, основанный на функциях как основных строительных блоках программы. В Python функциональное программирование можно реализовать с помощью функций высшего порядка, замыканий, анонимных функций (лямбда-функций) и функций-генераторов.\n",
    "\n",
    "В Python есть несколько встроенных функций высшего порядка, включая функции map(), filter() и reduce(). Функция map() позволяет применять заданную функцию к каждому элементу итерируемого объекта и возвращает итератор, содержащий результаты. Функция filter() позволяет выбирать только те элементы итерируемого объекта, которые удовлетворяют заданному условию, и возвращает итератор, содержащий эти элементы. Функция reduce() применяет заданную функцию к парам элементов итерируемого объекта и возвращает одно значение."
   ]
  },
  {
   "cell_type": "markdown",
   "metadata": {},
   "source": [
    "## Вложенная функция в Python "
   ]
  },
  {
   "cell_type": "markdown",
   "metadata": {},
   "source": [
    "Вложенная функция в Python - это функция, которая определена внутри другой функции. Она может использоваться только внутри родительской функции, и ее область видимости ограничена областью видимости родительской функции.\n",
    "\n",
    "Вот пример кода, который иллюстрирует вложенные функции в Python:"
   ]
  },
  {
   "cell_type": "code",
   "execution_count": 1,
   "metadata": {},
   "outputs": [
    {
     "name": "stdout",
     "output_type": "stream",
     "text": [
      "Это внешняя функция\n",
      "Это вложенная функция\n"
     ]
    }
   ],
   "source": [
    "def outer_func():\n",
    "    print(\"Это внешняя функция\")\n",
    "    \n",
    "    def inner_func():\n",
    "        print(\"Это вложенная функция\")\n",
    "    \n",
    "    inner_func()\n",
    "\n",
    "outer_func()"
   ]
  },
  {
   "cell_type": "markdown",
   "metadata": {},
   "source": [
    "В этом примере inner_func() является вложенной функцией, а outer_func() - родительской функцией. При вызове outer_func() будет напечатано сообщение \"Это внешняя функция\", а затем будет вызвана вложенная функция inner_func(), которая напечатает сообщение \"Это вложенная функция\". Обратите внимание, что inner_func() доступна только внутри outer_func() и не может быть вызвана напрямую извне."
   ]
  },
  {
   "cell_type": "code",
   "execution_count": 2,
   "metadata": {},
   "outputs": [],
   "source": [
    "def f_lvl_1(x):\n",
    "    print('f_lvl_1 begin')\n",
    "    y = 2\n",
    "    def f_lvl_2():\n",
    "        print('\\tf_lvl_2 begin')        \n",
    "        print(f'\\tx:{x}')                \n",
    "#         print(f'\\ty:{y}')        \n",
    "        y = 3 # создается ЛОКАЛЬНАЯ переменная во вложенной функции\n",
    "        print(f'\\ty:{y}')        \n",
    "        print('\\tf_lvl_2 end')                \n",
    "\n",
    "    print(f'x:{x}')          \n",
    "    print(f'y:{y}')          \n",
    "    f_lvl_2()    \n",
    "    print(f'x:{x}')          \n",
    "    print(f'y:{y}')          \n",
    "    print('f_lvl_1 end') "
   ]
  },
  {
   "cell_type": "code",
   "execution_count": 3,
   "metadata": {},
   "outputs": [
    {
     "name": "stdout",
     "output_type": "stream",
     "text": [
      "f_lvl_1 begin\n",
      "x:10\n",
      "y:2\n",
      "\tf_lvl_2 begin\n",
      "\tx:10\n",
      "\ty:3\n",
      "\tf_lvl_2 end\n",
      "x:10\n",
      "y:2\n",
      "f_lvl_1 end\n"
     ]
    }
   ],
   "source": [
    "f_lvl_1(10)"
   ]
  },
  {
   "cell_type": "markdown",
   "metadata": {},
   "source": [
    "Вложенные функции в Python используются для улучшения организации и структуры кода. Вот несколько причин, по которым вложенные функции могут быть полезны:\n",
    "\n",
    "1-  Инкапсуляция: Вложенные функции позволяют объединить связанный функционал в одном месте, скрывая детали реализации от других частей программы. Это уменьшает вероятность ошибок и облегчает сопровождение кода.\n",
    "\n",
    "2- Управление областью видимости: Использование вложенных функций позволяет ограничить область видимости переменных, что уменьшает количество глобальных переменных и улучшает читаемость кода.\n",
    "\n",
    "3- Повторное использование: Вложенные функции могут использоваться для создания библиотек функций, которые можно повторно использовать в разных частях программы.\n",
    "\n",
    "4- Декорирование: Вложенные функции могут использоваться для создания декораторов функций, которые добавляют дополнительное поведение к существующим функциям.\n",
    "\n",
    "5- Локализация изменений: Изменение вложенной функции не влияет на другие части программы, что позволяет локализовать изменения и упрощает сопровождение кода."
   ]
  },
  {
   "cell_type": "markdown",
   "metadata": {},
   "source": [
    "## Замыкание"
   ]
  },
  {
   "cell_type": "markdown",
   "metadata": {},
   "source": [
    "Замыкание (англ. closure) в программировании — функция, в теле которой присутствуют ссылки на переменные, объявленные вне тела этой функции в окружающем коде и не являющиеся её параметрами. Говоря другим языком, замыкание — функция, которая ссылается на свободные переменные в своём контексте."
   ]
  },
  {
   "cell_type": "code",
   "execution_count": 2,
   "metadata": {},
   "outputs": [
    {
     "name": "stdout",
     "output_type": "stream",
     "text": [
      "9\n"
     ]
    }
   ],
   "source": [
    "def outer_func(n):\n",
    "    def inner_func(x):\n",
    "        return x**n\n",
    "    return inner_func\n",
    "power_2 = outer_func(2)\n",
    "print(power_2(3))  # выводит 8"
   ]
  },
  {
   "cell_type": "markdown",
   "metadata": {},
   "source": [
    "Здесь функция inner_func() является замыканием, потому что она ссылается на значение x из своего лексического окружения в outer_func(). Функция outer_func() возвращает inner_func(), поэтому power_2 является функцией, которая возврашает число в степень 2 . В момент вызова power_2(3), переменная x уже не доступна для внешнего кода, но замыкание позволяет inner_func() продолжать ссылаться на это значение и использовать его для выполнения своей работы."
   ]
  },
  {
   "cell_type": "code",
   "execution_count": 6,
   "metadata": {},
   "outputs": [],
   "source": [
    "def power_generator(n):\n",
    "    def n_power(x):\n",
    "        return x**n\n",
    "    return n_power"
   ]
  },
  {
   "cell_type": "code",
   "execution_count": 7,
   "metadata": {},
   "outputs": [],
   "source": [
    "power_2= power_generator(2)"
   ]
  },
  {
   "cell_type": "code",
   "execution_count": 8,
   "metadata": {},
   "outputs": [
    {
     "data": {
      "text/plain": [
       "25"
      ]
     },
     "execution_count": 8,
     "metadata": {},
     "output_type": "execute_result"
    }
   ],
   "source": [
    "power_2(5)"
   ]
  },
  {
   "cell_type": "markdown",
   "metadata": {},
   "source": [
    "##  Задачи"
   ]
  },
  {
   "cell_type": "markdown",
   "metadata": {},
   "source": [
    "1- Напишите функцию multiply_by(), которая принимает один аргумент n и возвращает вложенную функцию, которая умножает свой аргумент на n. Затем используйте возвращенную функцию для умножения чисел на n."
   ]
  },
  {
   "cell_type": "code",
   "execution_count": null,
   "metadata": {},
   "outputs": [],
   "source": []
  },
  {
   "cell_type": "markdown",
   "metadata": {},
   "source": [
    "2- Напишите функцию outer_func(), которая возвращает вложенную функцию inner_func(). Вложенная функция inner_func() должна принимать два аргумента a и b и возвращать их сумму. Затем вызовите outer_func(), чтобы получить доступ к вложенной функции inner_func(), и используйте ее для сложения двух чисел."
   ]
  },
  {
   "cell_type": "code",
   "execution_count": null,
   "metadata": {},
   "outputs": [],
   "source": []
  },
  {
   "cell_type": "markdown",
   "metadata": {},
   "source": [
    "3- Напишите функцию fibonacci(), которая возвращает вложенную функцию fib() для вычисления чисел Фибоначчи. Вложенная функция fib() должна принимать один аргумент n и возвращать n-е число Фибоначчи. Используйте замыкание для хранения предыдущих значений и ускорения вычислений."
   ]
  },
  {
   "cell_type": "markdown",
   "metadata": {},
   "source": [
    "## Функции высшего порядка "
   ]
  },
  {
   "cell_type": "markdown",
   "metadata": {},
   "source": [
    "Функции высших порядков (higher-order functions) в Python  — это такие функции, которые могут принимать в качестве аргументов и возвращать другие функции."
   ]
  },
  {
   "cell_type": "markdown",
   "metadata": {},
   "source": [
    "Примеры функций высших порядков в Python:\n",
    "map(), filter(), reduce()"
   ]
  },
  {
   "cell_type": "code",
   "execution_count": null,
   "metadata": {},
   "outputs": [],
   "source": [
    "from functools import reduce\n",
    "\n",
    "def multiply(x, y):\n",
    "    return x * y\n",
    "\n",
    "numbers = [1, 2, 3, 4, 5]\n",
    "product = reduce(multiply, numbers)\n",
    "print(product)"
   ]
  },
  {
   "cell_type": "code",
   "execution_count": null,
   "metadata": {},
   "outputs": [],
   "source": [
    "# функции обратного вызова (callback functions)\n",
    "def add(a, b):\n",
    "    return a + b\n",
    "\n",
    "def sub(a, b):\n",
    "    return a - b"
   ]
  },
  {
   "cell_type": "code",
   "execution_count": null,
   "metadata": {},
   "outputs": [],
   "source": [
    "def apply_operation(operation, arg1, arg2):\n",
    "    'operation - callback function; arg1, arg2 - arguments'\n",
    "    return operation(arg1, arg2)"
   ]
  },
  {
   "cell_type": "code",
   "execution_count": null,
   "metadata": {},
   "outputs": [],
   "source": [
    "apply_operation(add, 2, 3)"
   ]
  },
  {
   "cell_type": "code",
   "execution_count": null,
   "metadata": {},
   "outputs": [],
   "source": [
    "apply_operation(sub, 2, 3)"
   ]
  },
  {
   "cell_type": "markdown",
   "metadata": {},
   "source": [
    "## Задача\n",
    "Напишите функцию apply_function(), которая принимает функцию f и список lst, и возвращает список, содержащий результаты применения функции f к каждому элементу списка lst."
   ]
  },
  {
   "cell_type": "markdown",
   "metadata": {},
   "source": [
    "## Декораторы "
   ]
  },
  {
   "cell_type": "markdown",
   "metadata": {},
   "source": [
    "Декоратор - это функция, которая принимает функцию или метод в качестве единственного аргумента и  \n",
    "возвращает новую функцию или метод, включающую декорированную функцию или метод, с дополнительными функциональными возможностями. "
   ]
  },
  {
   "cell_type": "markdown",
   "metadata": {},
   "source": [
    "Декораторы в Python - это специальные функции, которые используются для изменения поведения других функций или классов без изменения их исходного кода. Декораторы позволяют добавлять новое поведение к функциям или классам, такие как логирование, проверка входных данных, измерение времени выполнения и т.д."
   ]
  },
  {
   "cell_type": "markdown",
   "metadata": {},
   "source": [
    "Существуют предопределенные декораторы, например, ©property и @classmethod."
   ]
  },
  {
   "cell_type": "code",
   "execution_count": 7,
   "metadata": {},
   "outputs": [
    {
     "name": "stdout",
     "output_type": "stream",
     "text": [
      "Вызвана функция add с аргументами (2, 3), {}\n",
      "Результат выполнения функции add: 5\n"
     ]
    },
    {
     "data": {
      "text/plain": [
       "5"
      ]
     },
     "execution_count": 7,
     "metadata": {},
     "output_type": "execute_result"
    }
   ],
   "source": [
    "def logger(func):\n",
    "    def wrapper(*args, **kwargs):\n",
    "        \"\"\"wrapper \"\"\"\n",
    "        print(f\"Вызвана функция {func.__name__} с аргументами {args}, {kwargs}\")\n",
    "        result = func(*args, **kwargs)\n",
    "        print(f\"Результат выполнения функции {func.__name__}: {result}\")\n",
    "        return result\n",
    "    return wrapper\n",
    "\n",
    "@logger\n",
    "def add(a, b):\n",
    "    \"\"\"add \"\"\"\n",
    "    return a + b\n",
    "\n",
    "add(2, 3)\n",
    "# выводит:\n",
    "# Вызвана функция add с аргументами (2, 3), {}\n",
    "# Результат выполнения функции add: 5\n"
   ]
  },
  {
   "cell_type": "code",
   "execution_count": 8,
   "metadata": {},
   "outputs": [
    {
     "data": {
      "text/plain": [
       "'wrapper'"
      ]
     },
     "execution_count": 8,
     "metadata": {},
     "output_type": "execute_result"
    }
   ],
   "source": [
    "add.__name__"
   ]
  },
  {
   "cell_type": "code",
   "execution_count": 9,
   "metadata": {},
   "outputs": [
    {
     "data": {
      "text/plain": [
       "'wrapper '"
      ]
     },
     "execution_count": 9,
     "metadata": {},
     "output_type": "execute_result"
    }
   ],
   "source": [
    "add.__doc__"
   ]
  },
  {
   "cell_type": "code",
   "execution_count": 14,
   "metadata": {},
   "outputs": [
    {
     "name": "stdout",
     "output_type": "stream",
     "text": [
      "Вызвана функция add с аргументами (2, 3), {}\n",
      "Результат выполнения функции add: 5\n"
     ]
    },
    {
     "data": {
      "text/plain": [
       "5"
      ]
     },
     "execution_count": 14,
     "metadata": {},
     "output_type": "execute_result"
    }
   ],
   "source": [
    "import functools \n",
    "def logger(func):\n",
    "    @functools.wraps(func) \n",
    "    def wrapper(*args, **kwargs):\n",
    "        \"\"\"wrapper \"\"\"\n",
    "        print(f\"Вызвана функция {func.__name__} с аргументами {args}, {kwargs}\")\n",
    "        result = func(*args, **kwargs)\n",
    "        print(f\"Результат выполнения функции {func.__name__}: {result}\")\n",
    "        return result\n",
    "    return wrapper\n",
    "\n",
    "@logger\n",
    "def add(a, b):\n",
    "    \"\"\"add a+b\"\"\"\n",
    "    return a + b\n",
    "\n",
    "add(2, 3)\n",
    "# выводит:\n",
    "# Вызвана функция add с аргументами (2, 3), {}\n",
    "# Результат выполнения функции add: 5"
   ]
  },
  {
   "cell_type": "code",
   "execution_count": 15,
   "metadata": {},
   "outputs": [
    {
     "data": {
      "text/plain": [
       "'add'"
      ]
     },
     "execution_count": 15,
     "metadata": {},
     "output_type": "execute_result"
    }
   ],
   "source": [
    "add.__name__"
   ]
  },
  {
   "cell_type": "code",
   "execution_count": 16,
   "metadata": {},
   "outputs": [
    {
     "data": {
      "text/plain": [
       "'add a+b'"
      ]
     },
     "execution_count": 16,
     "metadata": {},
     "output_type": "execute_result"
    }
   ],
   "source": [
    "add.__doc__"
   ]
  },
  {
   "cell_type": "markdown",
   "metadata": {},
   "source": [
    "Это важно, чтобы при использовании декораторов метаданные функций (например, имя, документация и т.д.) сохранялись для отладки и создания документации."
   ]
  },
  {
   "cell_type": "markdown",
   "metadata": {},
   "source": [
    "Применение декоратора @functools.wraps необязательно, но оно может помочь при отладке и создании документации, особенно при использовании нескольких декораторов. Он также может помочь в сохранении информации об исходной функции при использовании инструментов статического анализа кода"
   ]
  },
  {
   "cell_type": "markdown",
   "metadata": {},
   "source": [
    "To prevent losing information about the wrapped function we can use functools.wraps . It is a decorator that wraps the decorator and makes the decorated function to overwrite the original function’s name, docstring and argument list."
   ]
  },
  {
   "cell_type": "markdown",
   "metadata": {},
   "source": [
    "### Задача:\n",
    "\n",
    "Напишите декоратор memoize, который будет кэшировать результаты выполнения функции fibonacci. Декоратор должен сохранять результаты выполнения функции в словаре и возвращать сохраненное значение при повторных вызовах функции с теми же аргументами."
   ]
  },
  {
   "cell_type": "code",
   "execution_count": null,
   "metadata": {},
   "outputs": [],
   "source": []
  },
  {
   "cell_type": "code",
   "execution_count": null,
   "metadata": {},
   "outputs": [],
   "source": []
  }
 ],
 "metadata": {
  "kernelspec": {
   "display_name": "Python 3 (ipykernel)",
   "language": "python",
   "name": "python3"
  },
  "language_info": {
   "codemirror_mode": {
    "name": "ipython",
    "version": 3
   },
   "file_extension": ".py",
   "mimetype": "text/x-python",
   "name": "python",
   "nbconvert_exporter": "python",
   "pygments_lexer": "ipython3",
   "version": "3.11.5"
  }
 },
 "nbformat": 4,
 "nbformat_minor": 2
}
