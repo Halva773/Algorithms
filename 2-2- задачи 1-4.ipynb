{
 "cells": [
  {
   "cell_type": "markdown",
   "id": "a48437d9",
   "metadata": {},
   "source": [
    "# Тема 2.2. Конструктор. Абстракция. Полиморфизм.\n"
   ]
  },
  {
   "cell_type": "markdown",
   "id": "bec72f91",
   "metadata": {},
   "source": [
    "Задача 1. Создать класс, хранящий в себе информацию о котах.\n",
    "С помощью конструктора класса создать несколько объектов данного класса'''"
   ]
  },
  {
   "cell_type": "code",
   "execution_count": 1,
   "id": "7d2ccc4d",
   "metadata": {},
   "outputs": [
    {
     "data": {
      "text/plain": [
       "{'cats': [<__main__.Cat at 0x1ba39c45e90>, <__main__.Cat at 0x1ba39c45d90>]}"
      ]
     },
     "execution_count": 1,
     "metadata": {},
     "output_type": "execute_result"
    }
   ],
   "source": [
    "class Cats:\n",
    "    def __init__(self, Cats=[]):\n",
    "        self.cats = Cats\n",
    "        \n",
    "class Cat:\n",
    "    def __init__(self, name, breed, growth):\n",
    "        self.name = name\n",
    "        self.breed = breed\n",
    "        self.growth = growth\n",
    "        \n",
    "cat1 = Cat('Самса', 'breed1', 50)\n",
    "cat2 = Cat(\"Шаурма\", 'breed2', 30)\n",
    "\n",
    "cat_list = Cats([cat1, cat2])\n",
    "cat_list.__dict__"
   ]
  },
  {
   "cell_type": "markdown",
   "id": "c14a7446",
   "metadata": {},
   "source": [
    "Задача 2. Создать класс Учитель и Ученик. По результатам работы данных классов\n",
    "вывести на экран всех учеников, которых обучил учитель. Для каждого ученика вывести\n",
    "информацию, по какому предмету они обучились и их оценку.'''"
   ]
  },
  {
   "cell_type": "code",
   "execution_count": 12,
   "id": "d99b4e18",
   "metadata": {},
   "outputs": [
    {
     "name": "stdout",
     "output_type": "stream",
     "text": [
      "[<__main__.Student object at 0x000001BA3A93BF90>, <__main__.Student object at 0x000001BA3A938D50>, <__main__.Student object at 0x000001BA3A939690>]\n",
      "{'Алгебра и анализ': 'отлично'}\n",
      "{'Тервер': 'хорошо', 'Алгебра и анализ': 'отлично'}\n",
      "{'Философия': 'удовлетворительно', 'Алгебра и анализ': 'отлично'}\n"
     ]
    }
   ],
   "source": [
    "class Teacher:\n",
    "    def __init__(self, name, subjects = [], students = []):\n",
    "        self.name = name\n",
    "        self.subjects = subjects\n",
    "        self.students = students\n",
    "        \n",
    "    def all_students(self):\n",
    "        return self.students\n",
    "\n",
    "class Student:\n",
    "    def __init__(self, name, group, marks = {}):\n",
    "        self.name = name\n",
    "        self.group = group\n",
    "        self.marks = marks\n",
    "        \n",
    "    def add_subject(self, subject, mark):\n",
    "        self.marks[subject] = mark\n",
    "        \n",
    "    def all_subjects(self):\n",
    "        return self.marks\n",
    "    \n",
    "    def __str__(self):\n",
    "        return str(name + group)\n",
    "    \n",
    "student1 = Student('Artem', 'ID23-1', marks = {'Алгебра и анализ': 'отлично'})\n",
    "student2 = Student('Nikita', 'ID23-1', marks = {'Тервер': 'хорошо', 'Алгебра и анализ': 'отлично'})\n",
    "student3 = Student('Dima', 'ID23-1', marks = {'Философия': 'удовлетворительно', 'Алгебра и анализ': 'отлично'})\n",
    "teacher = Teacher('Рябов', ['Алгебра и анализ', \"Математика\", \"Теория вероятностей\"], [student1, student2, student3])\n",
    "print(teacher.all_students())\n",
    "\n",
    "for student in teacher.all_students():\n",
    "    print(student.all_subjects())"
   ]
  },
  {
   "cell_type": "markdown",
   "id": "5fb64315",
   "metadata": {},
   "source": [
    "Задача 3. Создать два класса домашних и диких животных,\n",
    "содержащих одинаковый метод \"Предпочтения в еде\". Использовать данный метод для\n",
    "двух классов (принцип полиморфизма).В конструкторе домашнего животного\n",
    "использовать название животного и возраст. В конструкторе дикого животного\n",
    "использовать только название животного'''"
   ]
  },
  {
   "cell_type": "code",
   "execution_count": 16,
   "id": "2d3a88c8",
   "metadata": {},
   "outputs": [
    {
     "name": "stdout",
     "output_type": "stream",
     "text": [
      "whiskas\n",
      "meat\n"
     ]
    }
   ],
   "source": [
    "class Wild_animal:\n",
    "    def __init__(self, name):\n",
    "        self.name = name\n",
    "        \n",
    "    def food_prefer(self):\n",
    "        if isinstance(self, Pet):\n",
    "            print('whiskas')\n",
    "        elif isinstance(self, Wild_animal):\n",
    "            print('meat')\n",
    "\n",
    "class Pet(Wild_animal):\n",
    "    def __init__(self, name, age):\n",
    "        super().__init__(name)\n",
    "        self.age = age\n",
    "        \n",
    "\n",
    "cat = Pet('rocket', 4)\n",
    "cat.food_prefer()\n",
    "bear = Wild_animal('Forestly')\n",
    "bear.food_prefer()"
   ]
  },
  {
   "cell_type": "markdown",
   "id": "d7712791",
   "metadata": {},
   "source": [
    "Задача 4. Создайте класс Часы по переводу минут в часы или секунды.\n",
    "Пользователь должен задать время, напрмер, 89 минут, и также пользователь должен\n",
    "определить в часы или в секунды перевести заданное время. Используйте\n",
    "принципы абстракции, инкапсуляции, а также конструктор классов'''"
   ]
  },
  {
   "cell_type": "code",
   "execution_count": 6,
   "id": "98bd9945",
   "metadata": {},
   "outputs": [
    {
     "name": "stdout",
     "output_type": "stream",
     "text": [
      "3.7083333333333335 hours\n",
      "5340 seconds\n"
     ]
    }
   ],
   "source": [
    "class Watch:\n",
    "    def __init__(self, minutes, mode='seconds'):\n",
    "        self.minutes = minutes\n",
    "        self.mode = mode\n",
    "        if self.mode == 'seconds':\n",
    "            self.time = Watch.convert_to_seconds(self.minutes)\n",
    "        elif self.mode == 'hours':\n",
    "            self.time = Watch.convert_to_hours(self.minutes)\n",
    "            \n",
    "    def __str__(self):\n",
    "        return f'{self.time} {self.mode}'\n",
    "    \n",
    "    \n",
    "    @staticmethod        \n",
    "    def convert_to_seconds(minutes):\n",
    "        return minutes*60\n",
    "    \n",
    "    @staticmethod        \n",
    "    def convert_to_hours(minutes):\n",
    "        return minutes/24\n",
    "    \n",
    "time_hours = Watch(89, 'hours')\n",
    "print(time_hours)\n",
    "\n",
    "time_sec = Watch(89)\n",
    "print(time_sec)"
   ]
  },
  {
   "cell_type": "markdown",
   "id": "270c08ab",
   "metadata": {},
   "source": [
    "Задача 5. Создайте класс мебели . Используйте конструктор с параметрами по умолчанию.\n",
    "Определите с помощью класса дорогая или нет мебель. Учесть, что дорогая мебель\n",
    "с ценой выше 20000руб, а дешевая с ценой ниже 5 000руб.Ценовые пороги мебели может\n",
    "задавать пользователь.'''\n"
   ]
  },
  {
   "cell_type": "code",
   "execution_count": 11,
   "id": "02f1d8bd",
   "metadata": {},
   "outputs": [
    {
     "name": "stdout",
     "output_type": "stream",
     "text": [
      "6734829012\n",
      "73819312\n",
      "cheap\n"
     ]
    }
   ],
   "source": [
    "class Furniture:\n",
    "    def __init__(self, price, max_price = 20000, min_price = 5000):\n",
    "        self.price = price\n",
    "        self.max_price = max_price\n",
    "        self.min_price = min_price\n",
    "        \n",
    "    def __str__(self):\n",
    "        if self.price > self.max_price:\n",
    "            return 'expensive'\n",
    "        elif self.price < self.min_price:\n",
    "            return 'cheap'\n",
    "        else:\n",
    "            return 'Good'\n",
    "        \n",
    "sofa = Furniture(15000, max_price=int(input()), min_price=int(input()))\n",
    "print(sofa)"
   ]
  }
 ],
 "metadata": {
  "kernelspec": {
   "display_name": "Python 3 (ipykernel)",
   "language": "python",
   "name": "python3"
  },
  "language_info": {
   "codemirror_mode": {
    "name": "ipython",
    "version": 3
   },
   "file_extension": ".py",
   "mimetype": "text/x-python",
   "name": "python",
   "nbconvert_exporter": "python",
   "pygments_lexer": "ipython3",
   "version": "3.11.5"
  }
 },
 "nbformat": 4,
 "nbformat_minor": 5
}
