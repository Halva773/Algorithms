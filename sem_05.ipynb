{
 "cells": [
  {
   "cell_type": "markdown",
   "metadata": {},
   "source": [
    "## Функциональное программирование\n",
    "\n",
    "1) Реализовать функцию factorial(n) двумя способами: с помощью цикла и рекурсии.\n",
    "\n",
    "1.1) С использованием глобальной переменной реализовать вывод на экран отладочной информации о вызовах функции factorial(n) печатающий с отступами, соответствующими глубине рекурсии.\n",
    "\n",
    "Пример:\n",
    "\n",
    "In: factorial(4)\n",
    "    \n",
    "    factorial(4)\n",
    "\n",
    "        factorial(3)\n",
    "        \n",
    "            factorial(2)\n",
    "\n",
    "                factorial(1)\n",
    "      \n",
    "                    factorial(0)"
   ]
  },
  {
   "cell_type": "code",
   "execution_count": 1,
   "metadata": {},
   "outputs": [
    {
     "name": "stdout",
     "output_type": "stream",
     "text": [
      "5\n",
      "factorial(5)\n",
      " factorial(4)\n",
      "  factorial(3)\n",
      "   factorial(2)\n",
      "    factorial(1)\n",
      "     factorial(0)\n"
     ]
    }
   ],
   "source": [
    "start_index = int(input())\n",
    "\n",
    "def factorial(n):\n",
    "    if n >= 0:\n",
    "        global start_index\n",
    "        print(' '*(start_index-n) + f'factorial({n})')\n",
    "        return factorial(n-1)\n",
    "\n",
    "factorial(start_index)\n"
   ]
  },
  {
   "cell_type": "markdown",
   "metadata": {},
   "source": [
    "1.2) Реализовать функции printIn(s) и printOut(s), которые выводят строки s с отступами, при этом каждый вывод printIn(s) приводит к увеличению отсутпа, а  каждый вывод printOut(s) приводит к уменьшению отсутпа."
   ]
  },
  {
   "cell_type": "code",
   "execution_count": 2,
   "metadata": {},
   "outputs": [
    {
     "name": "stdout",
     "output_type": "stream",
     "text": [
      "  hello\n",
      "   hello\n",
      "    hello\n",
      "     hello\n",
      "      hello\n",
      "       hello\n",
      "        hello\n",
      "         hello\n",
      "          hello\n",
      "           hello\n",
      "          hello\n",
      "         hello\n",
      "        hello\n",
      "       hello\n",
      "      hello\n",
      "     hello\n",
      "    hello\n",
      "   hello\n",
      "  hello\n",
      " hello\n"
     ]
    }
   ],
   "source": [
    "spaces = 0\n",
    "\n",
    "def println(s):\n",
    "    global spaces\n",
    "    spaces += 1\n",
    "    print(f'{\" \"*spaces} {s}')\n",
    "\n",
    "    \n",
    "def printout(s):\n",
    "    global spaces\n",
    "    spaces -= 1\n",
    "    print(f'{\" \"*spaces} {s}')\n",
    "    \n",
    "\n",
    "for _ in range(10):\n",
    "    println('hello')\n",
    "\n",
    "for _ in range(10):\n",
    "    printout('hello')"
   ]
  },
  {
   "cell_type": "markdown",
   "metadata": {},
   "source": [
    "1.3) С использованием printIn(s) и printOut(s) реализовать отладочный вывод работы factorial(n) как для вызовов функций, так и для возвращаемых значений.\n",
    "\n",
    "Пример:\n",
    "\n",
    "In: factorial(4)\n",
    "\n",
    "    factorial(4)\n",
    "\n",
    "        factorial(3)\n",
    "        \n",
    "            factorial(2)\n",
    "    \n",
    "                factorial(1)\n",
    "      \n",
    "                    factorial(0)\n",
    "                    \n",
    "                    1\n",
    "                    \n",
    "                1\n",
    "                \n",
    "            2\n",
    "            \n",
    "        6\n",
    "        \n",
    "    24\n"
   ]
  },
  {
   "cell_type": "code",
   "execution_count": 3,
   "metadata": {},
   "outputs": [
    {
     "name": "stdout",
     "output_type": "stream",
     "text": [
      "  Calling factorial(4)\n",
      "   Calling factorial(3)\n",
      "    Calling factorial(2)\n",
      "     Calling factorial(1)\n",
      "      Calling factorial(0)\n",
      "     1\n",
      "    1\n",
      "   2\n",
      "  6\n",
      " 24\n"
     ]
    },
    {
     "data": {
      "text/plain": [
       "24"
      ]
     },
     "execution_count": 3,
     "metadata": {},
     "output_type": "execute_result"
    }
   ],
   "source": [
    "def factorial(n):\n",
    "    println(f\"Calling factorial({n})\")\n",
    "    if n == 0:\n",
    "        result = 1\n",
    "    else:\n",
    "        result = n * factorial(n-1)\n",
    "    printout(result)\n",
    "    return result\n",
    "\n",
    "factorial(4)"
   ]
  },
  {
   "cell_type": "markdown",
   "metadata": {},
   "source": [
    "\n",
    "\n",
    "2) Рекурсивно реализовать функцию fib(n) вычисляющую значение n-го числа Фибоначи. Учесть возможность вычисления числа с отрицательным индексом.\n",
    "\n",
    "2.1) С использованием printIn(s) и printOut(s) реализовать отладочный вывод работы fib(n)\n",
    "\n"
   ]
  },
  {
   "cell_type": "code",
   "execution_count": 4,
   "metadata": {},
   "outputs": [
    {
     "name": "stdout",
     "output_type": "stream",
     "text": [
      "  Calling fib(6)\n",
      "   Calling fib(5)\n",
      "    Calling fib(4)\n",
      "     Calling fib(3)\n",
      "      Calling fib(2)\n",
      "       Calling fib(1)\n",
      "      1\n",
      "       Calling fib(0)\n",
      "      0\n",
      "     1\n",
      "      Calling fib(1)\n",
      "     1\n",
      "    2\n",
      "     Calling fib(2)\n",
      "      Calling fib(1)\n",
      "     1\n",
      "      Calling fib(0)\n",
      "     0\n",
      "    1\n",
      "   3\n",
      "    Calling fib(3)\n",
      "     Calling fib(2)\n",
      "      Calling fib(1)\n",
      "     1\n",
      "      Calling fib(0)\n",
      "     0\n",
      "    1\n",
      "     Calling fib(1)\n",
      "    1\n",
      "   2\n",
      "  5\n",
      "   Calling fib(4)\n",
      "    Calling fib(3)\n",
      "     Calling fib(2)\n",
      "      Calling fib(1)\n",
      "     1\n",
      "      Calling fib(0)\n",
      "     0\n",
      "    1\n",
      "     Calling fib(1)\n",
      "    1\n",
      "   2\n",
      "    Calling fib(2)\n",
      "     Calling fib(1)\n",
      "    1\n",
      "     Calling fib(0)\n",
      "    0\n",
      "   1\n",
      "  3\n",
      " 8\n"
     ]
    },
    {
     "data": {
      "text/plain": [
       "8"
      ]
     },
     "execution_count": 4,
     "metadata": {},
     "output_type": "execute_result"
    }
   ],
   "source": [
    "def fib(n):\n",
    "    println(f\"Calling fib({n})\")\n",
    "    if n < 0:\n",
    "        printout(f'fib({n})')\n",
    "        return None\n",
    "    elif n == 0:\n",
    "        result = 0\n",
    "    elif n == 1:\n",
    "        result = 1\n",
    "    else:\n",
    "        result = fib(n-1) + fib(n-2)\n",
    "    printout(result)\n",
    "    return result\n",
    "\n",
    "fib(6)"
   ]
  },
  {
   "cell_type": "markdown",
   "metadata": {},
   "source": [
    "3) Реализовать функцию, принимающую на вход итерируемый объект функций и возвращающую словарь, в котором ключ - это первое слово из аннотации функции, а значение - ссылка на функцию.\n",
    "\n"
   ]
  },
  {
   "cell_type": "code",
   "execution_count": 105,
   "metadata": {},
   "outputs": [
    {
     "name": "stdout",
     "output_type": "stream",
     "text": [
      "{'add': <function add at 0x000001F8EA5A0EA0>, 'subtract': <function subtract at 0x000001F8EA5AC540>, 'multiply': <function multiply at 0x000001F8EA5AC4A0>, 'fib': <function fib at 0x000001F8E9FA3880>, 'factorial': <function factorial at 0x000001F8E9FA1260>}\n"
     ]
    },
    {
     "data": {
      "text/plain": [
       "-3"
      ]
     },
     "execution_count": 105,
     "metadata": {},
     "output_type": "execute_result"
    }
   ],
   "source": [
    "def create_function_dict(functions):\n",
    "    function_dict = {}\n",
    "    for func in functions:\n",
    "        annotation = func.__name__\n",
    "        if annotation:\n",
    "            key = annotation\n",
    "            function_dict[key] = func\n",
    "    return function_dict\n",
    "\n",
    "def add(x: int, y: int):\n",
    "    return x + y\n",
    "\n",
    "def subtract(a: int, b: int):\n",
    "    return a - b\n",
    "\n",
    "def multiply(num1: int, num2: int):\n",
    "    return num1 * num2\n",
    "\n",
    "function_list = [add, subtract, multiply, fib, factorial]\n",
    "result_dict = create_function_dict(function_list)\n",
    "print(result_dict)\n",
    "\n",
    "lst = {'b': 4}\n",
    "subtract(1, **lst)"
   ]
  },
  {
   "cell_type": "markdown",
   "metadata": {},
   "source": [
    "4) Создать функцию реализующую REPL для словаря, созданного в задаче 3. Отдельно должен предусматриваться выход из цикла REPL."
   ]
  },
  {
   "cell_type": "code",
   "execution_count": 84,
   "metadata": {},
   "outputs": [
    {
     "name": "stdout",
     "output_type": "stream",
     "text": [
      "Enter function name and arguments separated by space (e.g., add 3 5): add 3 5 6\n"
     ]
    },
    {
     "ename": "TypeError",
     "evalue": "add() takes 2 positional arguments but 3 were given",
     "output_type": "error",
     "traceback": [
      "\u001b[1;31m---------------------------------------------------------------------------\u001b[0m",
      "\u001b[1;31mTypeError\u001b[0m                                 Traceback (most recent call last)",
      "Cell \u001b[1;32mIn[84], line 15\u001b[0m\n\u001b[0;32m     12\u001b[0m         \u001b[38;5;28;01melse\u001b[39;00m:\n\u001b[0;32m     13\u001b[0m             \u001b[38;5;28mprint\u001b[39m(\u001b[38;5;124m\"\u001b[39m\u001b[38;5;124mFunction not found in dictionary.\u001b[39m\u001b[38;5;124m\"\u001b[39m)\n\u001b[1;32m---> 15\u001b[0m repl(result_dict)\n",
      "Cell \u001b[1;32mIn[84], line 10\u001b[0m, in \u001b[0;36mrepl\u001b[1;34m(function_dict)\u001b[0m\n\u001b[0;32m      8\u001b[0m \u001b[38;5;28;01mif\u001b[39;00m func_name \u001b[38;5;129;01min\u001b[39;00m function_dict:\n\u001b[0;32m      9\u001b[0m     args \u001b[38;5;241m=\u001b[39m [\u001b[38;5;28mint\u001b[39m(arg) \u001b[38;5;28;01mfor\u001b[39;00m arg \u001b[38;5;129;01min\u001b[39;00m inputs[\u001b[38;5;241m1\u001b[39m:]]\n\u001b[1;32m---> 10\u001b[0m     result \u001b[38;5;241m=\u001b[39m function_dict[func_name](\u001b[38;5;241m*\u001b[39margs)\n\u001b[0;32m     11\u001b[0m     \u001b[38;5;28mprint\u001b[39m(\u001b[38;5;124mf\u001b[39m\u001b[38;5;124m\"\u001b[39m\u001b[38;5;124mResult: \u001b[39m\u001b[38;5;132;01m{\u001b[39;00mresult\u001b[38;5;132;01m}\u001b[39;00m\u001b[38;5;124m\"\u001b[39m)\n\u001b[0;32m     12\u001b[0m \u001b[38;5;28;01melse\u001b[39;00m:\n",
      "\u001b[1;31mTypeError\u001b[0m: add() takes 2 positional arguments but 3 were given"
     ]
    }
   ],
   "source": [
    "def repl(function_dict):\n",
    "    while True:\n",
    "        user_input = input(\"Enter function name and arguments separated by space (e.g., add 3 5): \")\n",
    "        if user_input.lower() == 'exit':\n",
    "            break\n",
    "        inputs = user_input.split()\n",
    "        func_name = inputs[0]\n",
    "        if func_name in function_dict:\n",
    "            args = [int(arg) for arg in inputs[1:]]\n",
    "            result = function_dict[func_name](*args)\n",
    "            print(f\"Result: {result}\")\n",
    "        else:\n",
    "            print(\"Function not found in dictionary.\")\n",
    "\n",
    "repl(result_dict)"
   ]
  },
  {
   "cell_type": "markdown",
   "metadata": {},
   "source": [
    "4.1) Доработать REPL из задачи 4 так, чтобы пользователь мог передвать произвольное количество аргументов в функцию (при вводе пользователя аргументы разделяются пробелами).\n",
    "\n",
    "Пример:\n",
    "\n",
    "ввод пользователя>СКЛЕИТЬ текст1 текст2 текст3\n",
    "\n",
    "результат>текст1текст2текст3"
   ]
  },
  {
   "cell_type": "code",
   "execution_count": 87,
   "metadata": {},
   "outputs": [
    {
     "name": "stdout",
     "output_type": "stream",
     "text": [
      "Enter function name and arguments separated by space (e.g., add 3 5): add 3 45 5\n",
      "Result: 53\n",
      "Enter function name and arguments separated by space (e.g., add 3 5): substract 5 2 1\n",
      "Function not found in dictionary.\n",
      "Enter function name and arguments separated by space (e.g., add 3 5): multiply 3 4 6\n",
      "Result: 72\n",
      "Enter function name and arguments separated by space (e.g., add 3 5): exit\n"
     ]
    }
   ],
   "source": [
    "def repl(function_dict):\n",
    "    while True:\n",
    "        user_input = input(\"Enter function name and arguments separated by space (e.g., add 3 5): \")\n",
    "        if user_input.lower() == 'exit':\n",
    "            break\n",
    "        inputs = user_input.split()\n",
    "        func_name = inputs[0]\n",
    "        if func_name in function_dict:\n",
    "            args = [int(arg) for arg in inputs[1:]]\n",
    "            while len(args) > 1:\n",
    "                result = function_dict[func_name](args[0], args[1])\n",
    "                args[0] = result\n",
    "                args.pop(1)\n",
    "            print(f\"Result: {result}\")\n",
    "        else:\n",
    "            print(\"Function not found in dictionary.\")\n",
    "\n",
    "repl(result_dict)"
   ]
  },
  {
   "cell_type": "markdown",
   "metadata": {},
   "source": [
    "4.2) Доработать REPL из задачи 4 так, чтобы пользователь мог передвать  аргументы в функцию по их имени(при вводе пользователя именованные аргументы опредлеяются как ИМЯ=ЗНАЧЕНИЕ). \n",
    "\n",
    "Пример:\n",
    "\n",
    "ввод пользователя>БРОСИТЬ расстояние=5 \n",
    "\n",
    "\n",
    "результат>Предмет брошен на расстояние 5"
   ]
  },
  {
   "cell_type": "code",
   "execution_count": 108,
   "metadata": {},
   "outputs": [
    {
     "name": "stdout",
     "output_type": "stream",
     "text": [
      "Enter function name and arguments separated by space (e.g., add 3 5): add y=5 2\n",
      "[{'y': 5}, 2]\n",
      "Result: 7\n"
     ]
    },
    {
     "ename": "KeyboardInterrupt",
     "evalue": "Interrupted by user",
     "output_type": "error",
     "traceback": [
      "\u001b[1;31m---------------------------------------------------------------------------\u001b[0m",
      "\u001b[1;31mKeyboardInterrupt\u001b[0m                         Traceback (most recent call last)",
      "Cell \u001b[1;32mIn[108], line 21\u001b[0m\n\u001b[0;32m     18\u001b[0m         \u001b[38;5;28;01melse\u001b[39;00m:\n\u001b[0;32m     19\u001b[0m             \u001b[38;5;28mprint\u001b[39m(\u001b[38;5;124m\"\u001b[39m\u001b[38;5;124mFunction not found in dictionary.\u001b[39m\u001b[38;5;124m\"\u001b[39m)\n\u001b[1;32m---> 21\u001b[0m repl(result_dict)\n",
      "Cell \u001b[1;32mIn[108], line 8\u001b[0m, in \u001b[0;36mrepl\u001b[1;34m(function_dict)\u001b[0m\n\u001b[0;32m      6\u001b[0m \u001b[38;5;28;01mdef\u001b[39;00m \u001b[38;5;21mrepl\u001b[39m(function_dict):\n\u001b[0;32m      7\u001b[0m     \u001b[38;5;28;01mwhile\u001b[39;00m \u001b[38;5;28;01mTrue\u001b[39;00m:\n\u001b[1;32m----> 8\u001b[0m         user_input \u001b[38;5;241m=\u001b[39m \u001b[38;5;28minput\u001b[39m(\u001b[38;5;124m\"\u001b[39m\u001b[38;5;124mEnter function name and arguments separated by space (e.g., add 3 5): \u001b[39m\u001b[38;5;124m\"\u001b[39m)\n\u001b[0;32m      9\u001b[0m         \u001b[38;5;28;01mif\u001b[39;00m user_input\u001b[38;5;241m.\u001b[39mlower() \u001b[38;5;241m==\u001b[39m \u001b[38;5;124m'\u001b[39m\u001b[38;5;124mexit\u001b[39m\u001b[38;5;124m'\u001b[39m:\n\u001b[0;32m     10\u001b[0m             \u001b[38;5;28;01mbreak\u001b[39;00m\n",
      "File \u001b[1;32mC:\\ProgramData\\anaconda3\\Lib\\site-packages\\ipykernel\\kernelbase.py:1202\u001b[0m, in \u001b[0;36mKernel.raw_input\u001b[1;34m(self, prompt)\u001b[0m\n\u001b[0;32m   1200\u001b[0m     msg \u001b[38;5;241m=\u001b[39m \u001b[38;5;124m\"\u001b[39m\u001b[38;5;124mraw_input was called, but this frontend does not support input requests.\u001b[39m\u001b[38;5;124m\"\u001b[39m\n\u001b[0;32m   1201\u001b[0m     \u001b[38;5;28;01mraise\u001b[39;00m StdinNotImplementedError(msg)\n\u001b[1;32m-> 1202\u001b[0m \u001b[38;5;28;01mreturn\u001b[39;00m \u001b[38;5;28mself\u001b[39m\u001b[38;5;241m.\u001b[39m_input_request(\n\u001b[0;32m   1203\u001b[0m     \u001b[38;5;28mstr\u001b[39m(prompt),\n\u001b[0;32m   1204\u001b[0m     \u001b[38;5;28mself\u001b[39m\u001b[38;5;241m.\u001b[39m_parent_ident[\u001b[38;5;124m\"\u001b[39m\u001b[38;5;124mshell\u001b[39m\u001b[38;5;124m\"\u001b[39m],\n\u001b[0;32m   1205\u001b[0m     \u001b[38;5;28mself\u001b[39m\u001b[38;5;241m.\u001b[39mget_parent(\u001b[38;5;124m\"\u001b[39m\u001b[38;5;124mshell\u001b[39m\u001b[38;5;124m\"\u001b[39m),\n\u001b[0;32m   1206\u001b[0m     password\u001b[38;5;241m=\u001b[39m\u001b[38;5;28;01mFalse\u001b[39;00m,\n\u001b[0;32m   1207\u001b[0m )\n",
      "File \u001b[1;32mC:\\ProgramData\\anaconda3\\Lib\\site-packages\\ipykernel\\kernelbase.py:1245\u001b[0m, in \u001b[0;36mKernel._input_request\u001b[1;34m(self, prompt, ident, parent, password)\u001b[0m\n\u001b[0;32m   1242\u001b[0m \u001b[38;5;28;01mexcept\u001b[39;00m \u001b[38;5;167;01mKeyboardInterrupt\u001b[39;00m:\n\u001b[0;32m   1243\u001b[0m     \u001b[38;5;66;03m# re-raise KeyboardInterrupt, to truncate traceback\u001b[39;00m\n\u001b[0;32m   1244\u001b[0m     msg \u001b[38;5;241m=\u001b[39m \u001b[38;5;124m\"\u001b[39m\u001b[38;5;124mInterrupted by user\u001b[39m\u001b[38;5;124m\"\u001b[39m\n\u001b[1;32m-> 1245\u001b[0m     \u001b[38;5;28;01mraise\u001b[39;00m \u001b[38;5;167;01mKeyboardInterrupt\u001b[39;00m(msg) \u001b[38;5;28;01mfrom\u001b[39;00m \u001b[38;5;28;01mNone\u001b[39;00m\n\u001b[0;32m   1246\u001b[0m \u001b[38;5;28;01mexcept\u001b[39;00m \u001b[38;5;167;01mException\u001b[39;00m:\n\u001b[0;32m   1247\u001b[0m     \u001b[38;5;28mself\u001b[39m\u001b[38;5;241m.\u001b[39mlog\u001b[38;5;241m.\u001b[39mwarning(\u001b[38;5;124m\"\u001b[39m\u001b[38;5;124mInvalid Message:\u001b[39m\u001b[38;5;124m\"\u001b[39m, exc_info\u001b[38;5;241m=\u001b[39m\u001b[38;5;28;01mTrue\u001b[39;00m)\n",
      "\u001b[1;31mKeyboardInterrupt\u001b[0m: Interrupted by user"
     ]
    }
   ],
   "source": [
    "def validate(mas):\n",
    "    mas[1] = int(mas[1])\n",
    "    res = {mas[0]: mas[1]}\n",
    "    return res\n",
    "\n",
    "def repl(function_dict):\n",
    "    while True:\n",
    "        user_input = input(\"Enter function name and arguments separated by space (e.g., add 3 5): \")\n",
    "        if user_input.lower() == 'exit':\n",
    "            break\n",
    "        inputs = user_input.split()\n",
    "        func_name = inputs[0]\n",
    "        if func_name in function_dict:\n",
    "            args = [validate(arg.split('=')) if arg.count('=') == 1 else int(arg) for arg in inputs[1:]]\n",
    "            print(args)\n",
    "            result = function_dict[func_name](args[1], **args[0])\n",
    "            print(f\"Result: {result}\")\n",
    "        else:\n",
    "            print(\"Function not found in dictionary.\")\n",
    "\n",
    "repl(result_dict)"
   ]
  }
 ],
 "metadata": {
  "anaconda-cloud": {},
  "kernelspec": {
   "display_name": "Python 3 (ipykernel)",
   "language": "python",
   "name": "python3"
  },
  "language_info": {
   "codemirror_mode": {
    "name": "ipython",
    "version": 3
   },
   "file_extension": ".py",
   "mimetype": "text/x-python",
   "name": "python",
   "nbconvert_exporter": "python",
   "pygments_lexer": "ipython3",
   "version": "3.11.5"
  }
 },
 "nbformat": 4,
 "nbformat_minor": 1
}
