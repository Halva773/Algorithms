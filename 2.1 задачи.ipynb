{
 "cells": [
  {
   "cell_type": "markdown",
   "id": "cf260427",
   "metadata": {},
   "source": [
    "# Тема 2.1. Знакомство с классами.\n",
    "## Атрибуты класса. Экземпляр класса. Методы экземпляра класса.\n"
   ]
  },
  {
   "cell_type": "markdown",
   "id": "0a75cbad",
   "metadata": {},
   "source": [
    "Задача 1.Создайте класс фрукты Fruit, хранящий информацию о форме фрукта,\n",
    "его цвете и вкусе. Форму, цвет и вкус фрукта оформить в виде атрибутов класса.\n",
    "Создать несколько объектов (экземпляров класса), изменить значения атрибутов\n",
    "класса для конкретных объектов.'''"
   ]
  },
  {
   "cell_type": "code",
   "execution_count": 7,
   "id": "25d9cc6b",
   "metadata": {},
   "outputs": [
    {
     "name": "stdout",
     "output_type": "stream",
     "text": [
      "{'form': 'ball', 'color': 'red', 'taste': 'sweet'}\n",
      "{'form': 'ball', 'color': 'green', 'taste': 'sour'}\n",
      "{'form': 'long', 'color': 'yellow', 'taste': 'sweet'}\n"
     ]
    }
   ],
   "source": [
    "class Fruit:\n",
    "    def __init__(self, form, color, taste):\n",
    "        self.form = form\n",
    "        self.color = color\n",
    "        self.taste = taste\n",
    "    \n",
    "    def __str__(self):\n",
    "        return f'{self.__dict__}'\n",
    "        \n",
    "apple = Fruit('ball', 'red', 'sweet')\n",
    "banana = Fruit('long', 'yellow', 'sweet')\n",
    "print(apple)\n",
    "apple.color = 'green'\n",
    "apple.taste = 'sour'\n",
    "print(apple)\n",
    "print(banana)"
   ]
  },
  {
   "cell_type": "markdown",
   "id": "705802e3",
   "metadata": {},
   "source": [
    "\n",
    "'''Задача 2. Для класса фрукты Fruit, созданного в предыдущей задаче, создать\n",
    "атрибуты класса Вес и Количество динамически (не в классе)'''\n"
   ]
  },
  {
   "cell_type": "code",
   "execution_count": 9,
   "id": "ec653ca6",
   "metadata": {},
   "outputs": [
    {
     "name": "stdout",
     "output_type": "stream",
     "text": [
      "{'form': 'long', 'color': 'yellow', 'taste': 'sweet', 'weight': 0.08, 'count': 8}\n",
      "{'form': 'ball', 'color': 'green', 'taste': 'sour', 'weight': 0.2, 'count': 7}\n"
     ]
    }
   ],
   "source": [
    "apple.weight = 0.2\n",
    "apple.count = 7\n",
    "\n",
    "banana.weight = 0.08\n",
    "banana.count = 8\n",
    "\n",
    "print(banana)\n",
    "print(apple)"
   ]
  },
  {
   "cell_type": "markdown",
   "id": "cf7ab119",
   "metadata": {},
   "source": [
    "\n",
    "\n",
    "'''Задача 3. Для класса фрукты Fruit, созданного в задаче номер 1, создать:\n",
    "- метод подсчета общего веса текущего экземпляра класса.\n",
    "- метод сравнения общего веса данного экземпляра класса с любым другим.\n",
    "- метод вывода полной информации об экземпляре класса в виде таблицы.'''\n"
   ]
  },
  {
   "cell_type": "code",
   "execution_count": 46,
   "id": "2d6360a3",
   "metadata": {},
   "outputs": [
    {
     "name": "stdout",
     "output_type": "stream",
     "text": [
      "True\n",
      "---------------------------\n",
      "['form', 'color', 'taste', 'weight', 'count']\n",
      "['ball', 'red', 'sweet', 0.2, 4]\n",
      "---------------------------\n",
      "['form', 'color', 'taste', 'weight', 'count']\n",
      "['long', 'yellow', 'sweet', 0.08, 12]\n"
     ]
    }
   ],
   "source": [
    "class Fruit:\n",
    "    def __init__(self, form, color, taste, weight, count):\n",
    "        self.form = form\n",
    "        self.color = color\n",
    "        self.taste = taste\n",
    "        self.weight = weight\n",
    "        self.count = count\n",
    "    \n",
    "    \n",
    "    def count_total_weight(self):\n",
    "        return self.count * self.weight\n",
    "    \n",
    "    \n",
    "    def __eq__(self, other):\n",
    "        if isinstance(other, Fruit):\n",
    "            return self.count_total_weight() == other.count_total_weight()\n",
    "        else:\n",
    "            raise TypeError('Объекты разных классов нельзя сравнивать')\n",
    "    \n",
    "    \n",
    "    def __lt__(self, other):\n",
    "        if isinstance(other, Fruit):\n",
    "            return self.count_total_weight() < other.count_total_weight()\n",
    "        else:\n",
    "            raise TypeError('Объекты разных классов нельзя сравнивать')      \n",
    "\n",
    "    \n",
    "    def __gt__(self, other):\n",
    "        if isinstance(other, Fruit):\n",
    "            return self.count_total_weight() > other.count_total_weight()\n",
    "        else:\n",
    "            raise TypeError('Объекты разных классов нельзя сравнивать')      \n",
    "    \n",
    "    \n",
    "    def __str__(self):\n",
    "        return f'---------------------------\\n{list(self.__dict__.keys())}\\n{list(self.__dict__.values())}'\n",
    "    \n",
    "apple = Fruit('ball', 'red', 'sweet', 0.2, 4)\n",
    "banana = Fruit('long', 'yellow', 'sweet', 0.08, 12)\n",
    "\n",
    "\n",
    "print(apple < banana)\n",
    "print(apple)\n",
    "print(banana)"
   ]
  },
  {
   "cell_type": "markdown",
   "id": "7f8138af",
   "metadata": {},
   "source": [
    "\n",
    "'''Задача 4. Создать класс школьник, который хранит  информацию об ученике\n",
    "(имя, возраст, класс, all marks {'math':75}). Создать метод изменения среднего балла ученика\n",
    "и метод получения (вывода на печать) среднего балла ученика. Вывести полную информацию об ученике'''\n",
    "добавить метод добвления предмет и оценку к all marks\n"
   ]
  },
  {
   "cell_type": "code",
   "execution_count": 6,
   "id": "21a1963b",
   "metadata": {},
   "outputs": [
    {
     "name": "stdout",
     "output_type": "stream",
     "text": [
      "{'name': 'Artem', 'age': 19, 'group': 'ID23-1', 'marks': {'math': 96}} 96.0\n",
      "{'name': 'Artem', 'age': 19, 'group': 'ID23-1', 'marks': {'math': 96, 'Python': 100, 'Economy': 86}, 'avg_mark': 94.0} 94.0\n"
     ]
    }
   ],
   "source": [
    "class Student:\n",
    "    def __init__(self, name, age, group, all_marks:dict):\n",
    "        self.name = name\n",
    "        self.age = age\n",
    "        self.group = group\n",
    "        self.marks = all_marks\n",
    "        \n",
    "    def avg_marks(self):\n",
    "        return sum(list(self.marks.values()))/len(self.marks)\n",
    "    \n",
    "    def change_avg_marks(self, avg_marks: (int, float)):\n",
    "        self.avg_mark = self.avg_marks()\n",
    "        \n",
    "        \n",
    "    def __str__(self):\n",
    "        return str(self.__dict__)\n",
    "    \n",
    "    def new_subject(self, subject, mark=0):\n",
    "        self.marks[subject] = mark\n",
    "    \n",
    "Artem = Student('Artem', 19, 'ID23-1', {'math':96})\n",
    "print(Artem, Artem.avg_marks())\n",
    "Artem.new_subject('Python', 100)\n",
    "Artem.new_subject('Economy', 86)\n",
    "Artem.change_avg_marks(30)\n",
    "print(Artem, Artem.avg_marks())"
   ]
  },
  {
   "cell_type": "markdown",
   "id": "651cd4ed",
   "metadata": {},
   "source": [
    "\n",
    "'''Задача 5. К предыдущей задаче №4 добавить методы изменения имени и возраста ученика.'''\n",
    "\n"
   ]
  },
  {
   "cell_type": "code",
   "execution_count": 1,
   "id": "176c833e",
   "metadata": {},
   "outputs": [
    {
     "name": "stdout",
     "output_type": "stream",
     "text": [
      "{'name': 'Artem', 'age': 19, 'group': 'ID23-1', 'marks': {'math': 96}}\n",
      "{'name': 'Nikita', 'age': 18, 'group': 'ID23-1', 'marks': {'math': 96}}\n"
     ]
    }
   ],
   "source": [
    "class Student:\n",
    "    def __init__(self, name, age, group, all_marks:dict):\n",
    "        self.name = name\n",
    "        self.age = age\n",
    "        self.group = group\n",
    "        self.marks = all_marks\n",
    "        \n",
    "        \n",
    "    def avg_marks(self):\n",
    "        return sum(list(self.marks.values()))/len(self.marks)\n",
    "    \n",
    "    \n",
    "    def change_avg_marks(self, avg_marks: (int, float)):\n",
    "        self.avg_mark = self.avg_marks\n",
    "        \n",
    "        \n",
    "    def __str__(self):\n",
    "        return str(self.__dict__)\n",
    "    \n",
    "    \n",
    "    def new_subject(self, subject, mark=0):\n",
    "        self.marks[subject] = mark\n",
    "        \n",
    "    \n",
    "    def change_name(self, new_name):\n",
    "        self.name = new_name\n",
    "        return self\n",
    "        \n",
    "    def change_age(self, new_age: int):\n",
    "        self.age = new_age\n",
    "        return self\n",
    "   \n",
    "Artem = Student('Artem', 19, 'ID23-1', {'math':96})\n",
    "print(Artem)\n",
    "Artem.change_name('Nikita').change_age(18)\n",
    "print(Artem)"
   ]
  },
  {
   "cell_type": "markdown",
   "id": "9f65ac1a",
   "metadata": {},
   "source": [
    "'''Задача 6. Реализовать класс - простейший калькулятор, который в качестве методов реализует\n",
    "арифметические операции.\n",
    "Программа на вход принимает комбинацию чисел и операций,разделенных пробелами.\n",
    "Например, 6 - 7 + 4. В качестве операций для работы с числами использовать сложение и вычитание.'''"
   ]
  },
  {
   "cell_type": "code",
   "execution_count": 7,
   "id": "4e3764a7",
   "metadata": {},
   "outputs": [
    {
     "name": "stdout",
     "output_type": "stream",
     "text": [
      "3\n"
     ]
    }
   ],
   "source": [
    "class Calculator:\n",
    "    def __init__(self, expression):\n",
    "        self.expression = expression.split(' ')\n",
    "        self.result = self.expression[0]\n",
    "        for i in range(1, len(self.expression), 2):\n",
    "            if self.expression[i] == '+':\n",
    "                self.result = self.summary(self.result, self.expression[i+1])\n",
    "            elif self.expression[i] == '-':\n",
    "                self.result = self.difference(self.result, self.expression[i+1])\n",
    "                \n",
    "    def __str__(self):\n",
    "        return str(self.result)\n",
    "    \n",
    "    @staticmethod\n",
    "    def summary(a, b):\n",
    "        return int(a) + int(b)\n",
    "    \n",
    "    @staticmethod\n",
    "    def difference(a, b):\n",
    "        return int(a) - int(b)\n",
    "    \n",
    "\n",
    "    \n",
    "a = Calculator('6 - 7 + 4')\n",
    "print(a)"
   ]
  },
  {
   "cell_type": "markdown",
   "id": "4540c22c",
   "metadata": {},
   "source": [
    "7. Создайте класс Ведомость, имеющий атрибут класса: список_дисциплин (значением \n",
    "является список с названиями дисциплин); дисциплина (при задании значения проверять \n",
    "наличие дисциплины в атрибуте список_дисциплин), группа; \n",
    "- методы: \n",
    "  - put – добавляет в ведомость информацию об оценке студента (фамилия, оценка – параметры метода). Для хранения данных внутри класса используйте словарь, в котором ключом является фамилия студента. Возможные оценки – «отлично», «хорошо», «удовл.», «неудовл.», «н/я»; \n",
    "  - get – возвращает оценку, полученную студентом (фамилия студента – параметр метода); \n",
    "  - change – изменяет оценку, полученную студентом (фамилия студента и новая оценка – параметры метода); \n",
    "  - del – удаляет информацию о студенте из ведомости (фамилия студента – параметр метода); \n",
    "  - result – возвращает кортеж из 5 чисел (количество каждого вида оценок в ведомости); \n",
    "  - __init__ – конструктор; \n",
    "  - __str__ – возвращает строку, содержащую заголовки (название экзамена, группа) и результаты экзамена в виде таблицы; \n",
    "  - count – возвращает количество студентов в ведомости; \n",
    "  - names – возвращает список фамилий, имеющихся в ведомости. \n",
    "\n",
    "\n",
    "Продемонстрируйте работу с классами, создав необходимые объекты и вызвав все их методы"
   ]
  },
  {
   "cell_type": "code",
   "execution_count": 32,
   "id": "bcf21837",
   "metadata": {},
   "outputs": [
    {
     "name": "stdout",
     "output_type": "stream",
     "text": [
      "['Spirin', 'Spekhin', 'blagodarenko', 'Selin']\n",
      "хорошо\n",
      "хорошо\n",
      "['Spirin', 'Spekhin', 'blagodarenko']\n",
      "(2, 1, 0, 0, 0)\n",
      "{'group': 'ИД23-1', 'discipline': 'Math', 'students': {'Spirin': 'отлично', 'Spekhin': 'отлично', 'blagodarenko': 'хорошо'}}\n",
      "3\n"
     ]
    }
   ],
   "source": [
    "class Statement: \n",
    "    list_of_disciplines = ['Math', 'ICT', 'history']\n",
    "    def __init__(self, discipline, group, students={}):\n",
    "        self.group = group\n",
    "        if discipline in Statement.list_of_disciplines:\n",
    "            self.discipline = discipline\n",
    "        else:\n",
    "            raise Exception(f'Дисциплины {discipline} нет в перечне возможных')\n",
    "        self.students = students\n",
    "        \n",
    "    def put(self, surname, mark):\n",
    "        if mark in ['отлично', 'хорошо', 'удовл.', 'неудовл.', 'н/я']:\n",
    "            self.students[surname] = mark\n",
    "        else:\n",
    "            raise ValueError('Такая оценка не может быть выставлена студенту ')\n",
    "    \n",
    "    def get(self, surname):\n",
    "        return self.students[surname]\n",
    "    \n",
    "    def change(self, surname, value):\n",
    "        if value in ['отлично', 'хорошо', 'удовл.', 'неудовл.', 'н/я']:\n",
    "            self.students[surname] = value\n",
    "        else:\n",
    "            raise ValueError('Такая оценка не может быть выставлена студенту ')\n",
    "            \n",
    "    def delete(self, surname):\n",
    "        if surname in self.students:\n",
    "            del self.students[surname]\n",
    "        else:\n",
    "            raise IndexError('Такого студента не было')\n",
    "            \n",
    "    def result(self):\n",
    "        marks = list(self.students.values())\n",
    "        return marks.count('отлично'), marks.count('хорошо'), marks.count('удовл.'), marks.count('неудовл.'), marks.count('н/я')\n",
    "    \n",
    "    def __str__(self):\n",
    "        return str(self.__dict__)\n",
    "    \n",
    "    def count(self):\n",
    "        return len(self.__dict__)\n",
    "    \n",
    "    def names(self):\n",
    "        return list(self.students.keys())\n",
    "    \n",
    "a = Statement('Math', 'ИД23-1')\n",
    "a.put('Spirin', 'удовл.')\n",
    "a.put('Spekhin', 'отлично')\n",
    "a.put('blagodarenko', 'хорошо')\n",
    "a.put('Selin', 'хорошо')\n",
    "\n",
    "print(f'Имена студентов в ведомости: {a.names()}')\n",
    "print(f'Оценка Семина{a.get(\"Selin\")}')\n",
    "print('Меняем оценку у Spirin на отлично')\n",
    "a.change('Spirin', 'отлично')\n",
    "print(f\"Оценка Spirin: {a.get('Spirin')}\")\n",
    "print('Удаляем студента')\n",
    "a.delete('Selin')\n",
    "print(f'Имена студентов в ведомости: {a.names()}')\n",
    "print(f'Кортеж из оценок по количеству от отлично, до н/я: {a.result()}')\n",
    "print(a)\n",
    "print(a.count())\n",
    "\n"
   ]
  },
  {
   "cell_type": "markdown",
   "id": "c9a93dd9",
   "metadata": {},
   "source": [
    "8. Используя класс People в качестве базового, создайте класс Сотрудник (Worker), \n",
    "имеющий атрибуты: должность (post); зарплата (salary) и методы: __init__ – конструктор; \n",
    "__str__ – для вывода строковой информации. Создать два метода для класса Сотрудник и \n",
    "один метод для класса People. Продемонстрируйте работу с классами, создав необходимые \n",
    "объекты и вызвав все их методы.\n"
   ]
  },
  {
   "cell_type": "code",
   "execution_count": 35,
   "id": "62b023af",
   "metadata": {},
   "outputs": [
    {
     "name": "stdout",
     "output_type": "stream",
     "text": [
      "---------------------------\n",
      "['post', 'salary']\n",
      "['Middle', 150000]\n",
      "170000\n",
      "---------------------------\n",
      "['post', 'salary']\n",
      "['Middle', 170000]\n",
      "True\n"
     ]
    }
   ],
   "source": [
    "class People:\n",
    "    def is_people(self):\n",
    "        return isinstance(self, People)\n",
    "\n",
    "class Worker(People):\n",
    "    def __init__(self, post, salary):\n",
    "        self.post = post\n",
    "        self.salary = salary\n",
    "        \n",
    "    def __str__(self):\n",
    "        return f'---------------------------\\n{list(self.__dict__.keys())}\\n{list(self.__dict__.values())}'\n",
    "    \n",
    "    def update_salary(self, new_salary):\n",
    "        self.salary = new_salary\n",
    "        \n",
    "    def get_salary(self):\n",
    "        return self.salary\n",
    "    \n",
    "Artem = Worker('Middle', 150000)\n",
    "print(Artem)\n",
    "Artem.update_salary(Artem.get_salary() + 20000)\n",
    "print(Artem.get_salary())\n",
    "print(Artem)\n",
    "print(Artem.is_people())"
   ]
  },
  {
   "cell_type": "markdown",
   "id": "5e4f08a1",
   "metadata": {},
   "source": [
    "9. Используя класс Сотрудник в качестве базового создайте класс Преподаватель \n",
    "(Teacher), имеющий: атрибут дисциплины (disciplines), в котором хранятся названия \n",
    "дисциплин, которые ведет преподаватель; методы __init__ и __str__;методы \n",
    "добавить_дисциплину (add_dis) и удалить_дисциплину (delete_dis), которые позволяют \n",
    "изменять список дисциплин. Продемонстрируйте работу с классами, создав необходимые \n",
    "объекты и вызвав все их методы."
   ]
  },
  {
   "cell_type": "code",
   "execution_count": 36,
   "id": "16ffb162",
   "metadata": {},
   "outputs": [
    {
     "name": "stdout",
     "output_type": "stream",
     "text": [
      "---------------------------\n",
      "['post', 'salary', 'disciplines']\n",
      "['Docent', 300000, ['Math', 'Algebra and analysis']]\n",
      "---------------------------\n",
      "['post', 'salary', 'disciplines']\n",
      "['Docent', 300000, ['Algebra and analysis', 'Probability theory']]\n"
     ]
    }
   ],
   "source": [
    "class Teacher(Worker):    \n",
    "    def __init__(self, post, salary, disciplines=[]):\n",
    "        super().__init__(post, salary)\n",
    "        self.disciplines = disciplines\n",
    "        \n",
    "    def __str__(self):\n",
    "        return f'---------------------------\\n{list(self.__dict__.keys())}\\n{list(self.__dict__.values())}'\n",
    "    \n",
    "    def add_dis(self, discipline):\n",
    "        if discipline not in self.disciplines:\n",
    "            self.disciplines.append(discipline)\n",
    "        \n",
    "    def delete_dis(self, discipline):\n",
    "        if discipline in self.disciplines:\n",
    "            self.disciplines.remove(discipline)\n",
    "            \n",
    "KKK = Teacher('Docent', 300000, ['Math', 'Algebra and analysis'])\n",
    "print(KKK)\n",
    "KKK.add_dis('Probability theory')\n",
    "KKK.delete_dis('Math')\n",
    "print(KKK)"
   ]
  }
 ],
 "metadata": {
  "kernelspec": {
   "display_name": "Python 3 (ipykernel)",
   "language": "python",
   "name": "python3"
  },
  "language_info": {
   "codemirror_mode": {
    "name": "ipython",
    "version": 3
   },
   "file_extension": ".py",
   "mimetype": "text/x-python",
   "name": "python",
   "nbconvert_exporter": "python",
   "pygments_lexer": "ipython3",
   "version": "3.11.5"
  }
 },
 "nbformat": 4,
 "nbformat_minor": 5
}
