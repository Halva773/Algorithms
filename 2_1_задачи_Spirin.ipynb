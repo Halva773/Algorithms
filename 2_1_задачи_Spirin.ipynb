{
 "cells": [
  {
   "cell_type": "markdown",
   "id": "cf260427",
   "metadata": {
    "id": "cf260427"
   },
   "source": [
    "# Тема 2.1. Знакомство с классами.\n",
    "## Атрибуты класса. Экземпляр класса. Методы экземпляра класса.\n"
   ]
  },
  {
   "cell_type": "markdown",
   "id": "0a75cbad",
   "metadata": {
    "id": "0a75cbad"
   },
   "source": [
    "Задача 1.Создайте класс фрукты Fruit, хранящий информацию о форме фрукта,\n",
    "его цвете и вкусе. Форму, цвет и вкус фрукта оформить в виде атрибутов класса.\n",
    "Создать несколько объектов (экземпляров класса), изменить значения атрибутов\n",
    "класса для конкретных объектов.'''"
   ]
  },
  {
   "cell_type": "code",
   "execution_count": 15,
   "id": "25d9cc6b",
   "metadata": {
    "colab": {
     "base_uri": "https://localhost:8080/"
    },
    "id": "25d9cc6b",
    "outputId": "3ac19e0d-1390-46f0-9cda-58fc0c021ed3"
   },
   "outputs": [
    {
     "data": {
      "text/plain": [
       "({'form': 'long', 'color': 'yellow', 'taste': 'sweet'},\n",
       " {'form': 'circle', 'color': 'orange', 'taste': 'sweet'})"
      ]
     },
     "execution_count": 15,
     "metadata": {},
     "output_type": "execute_result"
    }
   ],
   "source": [
    "class Fruit():\n",
    "    form = 'oval'\n",
    "    color = 'green'\n",
    "    taste = 'sweet'\n",
    "\n",
    "orange = Fruit()\n",
    "banana = Fruit()\n",
    "\n",
    "setattr(orange, 'form', 'circle')\n",
    "setattr(orange, 'color', 'orange')\n",
    "setattr(orange, 'taste', 'sweet')\n",
    "\n",
    "setattr(banana, 'form','long')\n",
    "setattr(banana, 'color','yellow')\n",
    "setattr(banana, 'taste', 'sweet')\n",
    "\n",
    "banana.__dict__, orange.__dict__\n",
    "\n"
   ]
  },
  {
   "cell_type": "markdown",
   "id": "705802e3",
   "metadata": {
    "id": "705802e3"
   },
   "source": [
    "\n",
    "'''Задача 2. Для класса фрукты Fruit, созданного в предыдущей задаче, создать\n",
    "атрибуты класса Вес и Количество динамически (не в классе)'''\n"
   ]
  },
  {
   "cell_type": "code",
   "execution_count": 17,
   "id": "ec653ca6",
   "metadata": {
    "colab": {
     "base_uri": "https://localhost:8080/"
    },
    "id": "ec653ca6",
    "outputId": "2e66e161-673d-41d0-8d5a-02f6dc8bde31"
   },
   "outputs": [
    {
     "data": {
      "text/plain": [
       "mappingproxy({'__module__': '__main__',\n",
       "              'form': 'oval',\n",
       "              'color': 'green',\n",
       "              'taste': 'sweet',\n",
       "              '__dict__': <attribute '__dict__' of 'Fruit' objects>,\n",
       "              '__weakref__': <attribute '__weakref__' of 'Fruit' objects>,\n",
       "              '__doc__': None,\n",
       "              'weight': 1000,\n",
       "              'count': 5})"
      ]
     },
     "execution_count": 17,
     "metadata": {},
     "output_type": "execute_result"
    }
   ],
   "source": [
    "Fruit.weight = 1000\n",
    "Fruit.count = 5\n",
    "Fruit.__dict__"
   ]
  },
  {
   "cell_type": "markdown",
   "id": "cf7ab119",
   "metadata": {
    "id": "cf7ab119"
   },
   "source": [
    "\n",
    "\n",
    "'''Задача 3. Для класса фрукты Fruit, созданного в задаче номер 1, создать:\n",
    "- метод подсчета общего веса текущего экземпляра класса.\n",
    "- метод сравнения общего веса данного экземпляра класса с любым другим.\n",
    "- метод вывода полной информации об экземпляре класса в виде таблицы.'''\n"
   ]
  },
  {
   "cell_type": "code",
   "execution_count": 19,
   "id": "2d6360a3",
   "metadata": {
    "colab": {
     "base_uri": "https://localhost:8080/"
    },
    "id": "2d6360a3",
    "outputId": "8bd5abfc-0fca-491c-c69b-56bae4def7b9"
   },
   "outputs": [
    {
     "name": "stdout",
     "output_type": "stream",
     "text": [
      "form color taste weight count\n",
      "long yellow sweet 0.1 1\n"
     ]
    }
   ],
   "source": [
    "class Fruit():\n",
    "\n",
    "  def __init__(self, form, color, taste, weight, count):\n",
    "      self.form = form\n",
    "      self.color = color\n",
    "      self.taste = taste\n",
    "      self.weight = weight\n",
    "      self.count = count\n",
    "\n",
    "  def count1(self):\n",
    "    return self.weight * self.count\n",
    "\n",
    "  def sravn(self,obj):\n",
    "    a = self.count1()\n",
    "    b = obj.count1()\n",
    "    if a>b:\n",
    "      return self.__dict__\n",
    "    else:\n",
    "      return obj.__dict__\n",
    "\n",
    "  def print1(self):\n",
    "    print(*list(self.__dict__.keys()))\n",
    "    print(*list(self.__dict__.values()))\n",
    "\n",
    "\n",
    "banana = Fruit('long', 'yellow', 'sweet', 0.1, 1)\n",
    "\n",
    "orange = Fruit('circle', 'orange', 'sweet', 0.15, 1)\n",
    "banana.print1()\n",
    "\n",
    "\n",
    "\n"
   ]
  },
  {
   "cell_type": "markdown",
   "id": "7f8138af",
   "metadata": {
    "id": "7f8138af"
   },
   "source": [
    "\n",
    "'''Задача 4. Создать класс школьник, который хранит  информацию об ученике\n",
    "(имя, возраст, класс, all marks {'math':75}). Создать метод изменения среднего балла ученика\n",
    "и метод получения (вывода на печать) среднего балла ученика. Вывести полную информацию об ученике'''\n",
    "добавить метод добвления предмет и оценку к all marks\n"
   ]
  },
  {
   "cell_type": "code",
   "execution_count": 20,
   "id": "21a1963b",
   "metadata": {
    "id": "21a1963b"
   },
   "outputs": [],
   "source": [
    "class student():\n",
    "\n",
    "  def __init__(self, name, age, group, all_marks):\n",
    "      self.name = name\n",
    "      self.age = age\n",
    "      self.group = group\n",
    "      self.all_marks = all_marks\n",
    "      self.avg_marks = self.sredniy()\n",
    "\n",
    "  def sredniy(self):\n",
    "    return sum(list(self.all_marks.values()))/len(self.all_marks)\n",
    "\n",
    "  def dobav(self,subj,mark):\n",
    "    self.all_marks[subj] = mark\n",
    "\n",
    "  def izmena(self):\n",
    "    self.avg_marks = self.sredniy()\n",
    "\n"
   ]
  },
  {
   "cell_type": "markdown",
   "id": "651cd4ed",
   "metadata": {
    "id": "651cd4ed"
   },
   "source": [
    "\n",
    "'''Задача 5. К предыдущей задаче №4 добавить методы изменения имени и возраста ученика.'''\n",
    "\n"
   ]
  },
  {
   "cell_type": "code",
   "execution_count": 35,
   "id": "176c833e",
   "metadata": {
    "colab": {
     "base_uri": "https://localhost:8080/"
    },
    "id": "176c833e",
    "outputId": "7a1cdcf8-86a0-40ff-ad9b-f51370d55680"
   },
   "outputs": [
    {
     "name": "stdout",
     "output_type": "stream",
     "text": [
      "{'name': 'Kolya', 'age': 18, 'group': 11, 'all_marks': {'math': 99}, 'avg_marks': 99.0}\n",
      "99.0\n",
      "{'name': 'Nickola-Cola', 'age': 19, 'group': 11, 'all_marks': {'math': 99, 'russian': 100}, 'avg_marks': 99.5}\n"
     ]
    }
   ],
   "source": [
    "class student():\n",
    "\n",
    "  def __init__(self, name, age, group, all_marks):\n",
    "      self.name = name\n",
    "      self.age = age\n",
    "      self.group = group\n",
    "      self.all_marks = all_marks\n",
    "      self.avg_marks = self.sredniy()\n",
    "\n",
    "\n",
    "  def sredniy(self):\n",
    "    return sum(list(self.all_marks.values()))/len(self.all_marks)\n",
    "\n",
    "  def dobav(self,subj,mark):\n",
    "    self.all_marks[subj] = mark\n",
    "\n",
    "  def izmena(self):\n",
    "    self.avg_marks = self.sredniy()\n",
    "\n",
    "  def age1(self,age):\n",
    "    self.age = age\n",
    "    return self\n",
    "\n",
    "  def name1(self,name):\n",
    "    self.name = name\n",
    "    return self\n",
    "\n",
    "kolya = student('Kolya', 18, 11, {'math':99})\n",
    "print(kolya.__dict__)\n",
    "print(kolya.sredniy())\n",
    "kolya.dobav('russian',100)\n",
    "kolya.sredniy()\n",
    "kolya.izmena()\n",
    "kolya.age1(19).name1('Nickola-Cola')\n",
    "print(kolya.__dict__)\n",
    "\n",
    "\n",
    "\n",
    "\n",
    "\n"
   ]
  },
  {
   "cell_type": "markdown",
   "id": "9f65ac1a",
   "metadata": {
    "id": "9f65ac1a"
   },
   "source": [
    "'''Задача 6. Реализовать класс - простейший калькулятор, который в качестве методов реализует\n",
    "арифметические операции.\n",
    "Программа на вход принимает комбинацию чисел и операций,разделенных пробелами.\n",
    "Например, 6 - 7 + 4. В качестве операций для работы с числами использовать сложение и вычитание.'''"
   ]
  },
  {
   "cell_type": "code",
   "execution_count": 45,
   "id": "4e3764a7",
   "metadata": {
    "colab": {
     "base_uri": "https://localhost:8080/"
    },
    "id": "4e3764a7",
    "outputId": "787bc4e7-d817-4335-c805-83b7842edd6e"
   },
   "outputs": [
    {
     "data": {
      "text/plain": [
       "3"
      ]
     },
     "execution_count": 45,
     "metadata": {},
     "output_type": "execute_result"
    }
   ],
   "source": [
    "class calculator():\n",
    "\n",
    "  def __init__(self, expression):\n",
    "    self.expression = expression.split()\n",
    "    self.result = self.expression[0]\n",
    "\n",
    "    for i in range (1, len(self.expression), 2):\n",
    "      if self.expression[i] == '+':\n",
    "        self.result = self.summa(self.result, self.expression[i+1])\n",
    "\n",
    "      elif self.expression[i] == '-':\n",
    "        self.result = self.difference(self.result, self.expression[i+1])\n",
    "\n",
    "\n",
    "  @staticmethod\n",
    "  def summa(a,b):\n",
    "    return int(a)+int(b)\n",
    "\n",
    "  @staticmethod\n",
    "  def difference(a,b):\n",
    "    return int(a)-int(b)\n",
    "\n",
    "calc1 = calculator('6 - 7 + 4')\n",
    "calc1.result\n",
    "\n",
    "\n",
    "\n",
    "\n",
    "\n",
    "\n"
   ]
  },
  {
   "cell_type": "markdown",
   "id": "4540c22c",
   "metadata": {
    "id": "4540c22c"
   },
   "source": [
    "7. Создайте класс Ведомость, имеющий атрибут класса: список_дисциплин (значением\n",
    "является список с названиями дисциплин); дисциплина (при задании значения проверять\n",
    "наличие дисциплины в атрибуте список_дисциплин), группа; методы: put – добавляет в\n",
    "ведомость информацию об оценке студента (фамилия, оценка – параметры метода). Для\n",
    "хранения данных внутри класса используйте словарь, в котором ключом является фамилия\n",
    "студента. Возможные оценки – «отлично», «хорошо», «удовл.», «неудовл.», «н/я»; get –\n",
    "возвращает оценку, полученную студентом (фамилия студента – параметр метода); change\n",
    "– изменяет оценку, полученную студентом (фамилия студента и новая оценка – параметры\n",
    "метода); del – удаляет информацию о студенте из ведомости (фамилия студента – параметр\n",
    "метода); result – возвращает кортеж из 5 чисел (количество каждого вида оценок в\n",
    "ведомости); __init__ – конструктор; __str__ – возвращает строку, содержащую заголовки\n",
    "(название экзамена, группа) и результаты экзамена в виде таблицы; count – возвращает\n",
    "количество студентов в ведомости; names – возвращает список фамилий, имеющихся в\n",
    "ведомости. Продемонстрируйте работу с классами, создав необходимые объекты и вызвав\n",
    "все их методы"
   ]
  },
  {
   "cell_type": "code",
   "execution_count": null,
   "id": "bcf21837",
   "metadata": {
    "id": "bcf21837"
   },
   "outputs": [],
   "source": [
    "class Vedomost():\n",
    "  def __init__(self, disc_list, disc, group):\n"
   ]
  },
  {
   "cell_type": "markdown",
   "id": "c9a93dd9",
   "metadata": {
    "id": "c9a93dd9"
   },
   "source": [
    "8. Используя класс People в качестве базового, создайте класс Сотрудник (Worker),\n",
    "имеющий атрибуты: должность (post); зарплата (salary) и методы: __init__ – конструктор;\n",
    "__str__ – для вывода строковой информации. Создать два метода для класса Сотрудник и\n",
    "один метод для класса People. Продемонстрируйте работу с классами, создав необходимые\n",
    "объекты и вызвав все их методы.\n"
   ]
  },
  {
   "cell_type": "code",
   "execution_count": 62,
   "id": "62b023af",
   "metadata": {
    "colab": {
     "base_uri": "https://localhost:8080/"
    },
    "id": "62b023af",
    "outputId": "0bd76ab4-14ab-42f0-f973-5573df3ee32b"
   },
   "outputs": [
    {
     "data": {
      "text/plain": [
       "{'post': 'CEO', 'salary': '10000000'}"
      ]
     },
     "execution_count": 62,
     "metadata": {},
     "output_type": "execute_result"
    }
   ],
   "source": [
    "class People():\n",
    "\n",
    "  def true_or_false (self, age):\n",
    "    return isinstance (age ,People)\n",
    "\n",
    "\n",
    "class Worker(People):\n",
    "\n",
    "\n",
    "\n",
    "  def __init__(self, post, salary):\n",
    "    self.post = post\n",
    "    self.salary = salary\n",
    "\n",
    "  def __str__(self):\n",
    "    return str(self.__dict__)\n",
    "\n",
    "\n",
    "\n",
    "\n",
    "\n",
    "\n",
    "\n",
    "\n",
    "\n",
    "\n",
    "\n",
    "\n",
    "\n",
    "\n",
    "\n",
    "\n",
    "\n",
    "\n"
   ]
  },
  {
   "cell_type": "markdown",
   "id": "5e4f08a1",
   "metadata": {
    "id": "5e4f08a1"
   },
   "source": [
    "9. Используя класс Сотрудник в качестве базового создайте класс Преподаватель\n",
    "(Teacher), имеющий: атрибут дисциплины (disciplines), в котором хранятся названия\n",
    "дисциплин, которые ведет преподаватель; методы __init__ и __str__;методы\n",
    "добавить_дисциплину (add_dis) и удалить_дисциплину (delete_dis), которые позволяют\n",
    "изменять список дисциплин. Продемонстрируйте работу с классами, создав необходимые\n",
    "объекты и вызвав все их методы."
   ]
  },
  {
   "cell_type": "code",
   "execution_count": 69,
   "id": "16ffb162",
   "metadata": {
    "colab": {
     "base_uri": "https://localhost:8080/"
    },
    "id": "16ffb162",
    "outputId": "26d613f4-1b00-4fcf-ac64-35cd5ec94f0f"
   },
   "outputs": [
    {
     "name": "stdout",
     "output_type": "stream",
     "text": [
      "{'post': 'Docent', 'salary': 300000, 'disciplines': ['Math', 'Algebra']}\n",
      "{'post': 'Docent', 'salary': 300000, 'disciplines': ['Algebra', 'Python_OOP']}\n"
     ]
    }
   ],
   "source": [
    "class Teacher(Worker):\n",
    "\n",
    "  def __init__(self, post, salary, disciplines):\n",
    "    self.post = post\n",
    "    self.salary = salary\n",
    "    self.disciplines = disciplines\n",
    "\n",
    "  def __str__(self):\n",
    "    return str(self.__dict__)\n",
    "\n",
    "  def add_dis(self, discipline):\n",
    "    self.disciplines.append(discipline)\n",
    "\n",
    "  def delete_dis (self, discipline):\n",
    "    self.disciplines.remove(discipline)\n",
    "\n",
    "Galina_Nikolaevna= Teacher('Docent', 300000, ['Math', 'Algebra'])\n",
    "print(Galina_Nikolaevna)\n",
    "Galina_Nikolaevna.add_dis('Python_OOP')\n",
    "Galina_Nikolaevna.delete_dis('Math')\n",
    "print(Galina_Nikolaevna)\n",
    "\n",
    "\n",
    "\n"
   ]
  }
 ],
 "metadata": {
  "colab": {
   "provenance": []
  },
  "kernelspec": {
   "display_name": "Python 3 (ipykernel)",
   "language": "python",
   "name": "python3"
  },
  "language_info": {
   "codemirror_mode": {
    "name": "ipython",
    "version": 3
   },
   "file_extension": ".py",
   "mimetype": "text/x-python",
   "name": "python",
   "nbconvert_exporter": "python",
   "pygments_lexer": "ipython3",
   "version": "3.11.5"
  }
 },
 "nbformat": 4,
 "nbformat_minor": 5
}
